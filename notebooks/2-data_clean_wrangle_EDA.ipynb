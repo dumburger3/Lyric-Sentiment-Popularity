{
 "cells": [
  {
   "cell_type": "markdown",
   "id": "8cff1562",
   "metadata": {},
   "source": [
    "A Look Into The Top 100 Songs on Billboard (Week of Augest 4th, 2025)"
   ]
  },
  {
   "cell_type": "code",
   "execution_count": 1,
   "id": "427fa107",
   "metadata": {},
   "outputs": [
    {
     "data": {
      "text/plain": [
       "title              object\n",
       "artist             object\n",
       "lyrics             object\n",
       "rank                int64\n",
       "last_week           int64\n",
       "peak_rank           int64\n",
       "weeks_on_chart      int64\n",
       "release_year      float64\n",
       "lyric_length        int64\n",
       "dtype: object"
      ]
     },
     "execution_count": 1,
     "metadata": {},
     "output_type": "execute_result"
    }
   ],
   "source": [
    "import pandas as pd \n",
    "import numpy as np\n",
    "\n",
    "data = pd.read_csv('../billboard_hot_100_with_lyrics.csv')\n",
    "data.dtypes"
   ]
  },
  {
   "cell_type": "code",
   "execution_count": 2,
   "id": "ac8384b2",
   "metadata": {},
   "outputs": [
    {
     "data": {
      "text/html": [
       "<div>\n",
       "<style scoped>\n",
       "    .dataframe tbody tr th:only-of-type {\n",
       "        vertical-align: middle;\n",
       "    }\n",
       "\n",
       "    .dataframe tbody tr th {\n",
       "        vertical-align: top;\n",
       "    }\n",
       "\n",
       "    .dataframe thead th {\n",
       "        text-align: right;\n",
       "    }\n",
       "</style>\n",
       "<table border=\"1\" class=\"dataframe\">\n",
       "  <thead>\n",
       "    <tr style=\"text-align: right;\">\n",
       "      <th></th>\n",
       "      <th>title</th>\n",
       "      <th>artist</th>\n",
       "      <th>lyrics</th>\n",
       "      <th>rank</th>\n",
       "      <th>last_week</th>\n",
       "      <th>peak_rank</th>\n",
       "      <th>weeks_on_chart</th>\n",
       "      <th>release_year</th>\n",
       "      <th>lyric_length</th>\n",
       "    </tr>\n",
       "  </thead>\n",
       "  <tbody>\n",
       "    <tr>\n",
       "      <th>0</th>\n",
       "      <td>Ordinary</td>\n",
       "      <td>Alex Warren</td>\n",
       "      <td>44 ContributorsTranslationsItalianoEspañolУкра...</td>\n",
       "      <td>1</td>\n",
       "      <td>1</td>\n",
       "      <td>1</td>\n",
       "      <td>25</td>\n",
       "      <td>2025.0</td>\n",
       "      <td>356</td>\n",
       "    </tr>\n",
       "    <tr>\n",
       "      <th>1</th>\n",
       "      <td>Golden</td>\n",
       "      <td>HUNTR/X: EJAE, Audrey Nuna &amp; REI AMI</td>\n",
       "      <td>53 ContributorsTranslationsRomanizationEnglish...</td>\n",
       "      <td>2</td>\n",
       "      <td>2</td>\n",
       "      <td>2</td>\n",
       "      <td>6</td>\n",
       "      <td>2025.0</td>\n",
       "      <td>345</td>\n",
       "    </tr>\n",
       "    <tr>\n",
       "      <th>2</th>\n",
       "      <td>What I Want</td>\n",
       "      <td>Morgan Wallen Featuring Tate McRae</td>\n",
       "      <td>22 ContributorsTranslationsFrançaisItalianoNed...</td>\n",
       "      <td>3</td>\n",
       "      <td>4</td>\n",
       "      <td>1</td>\n",
       "      <td>11</td>\n",
       "      <td>2025.0</td>\n",
       "      <td>433</td>\n",
       "    </tr>\n",
       "    <tr>\n",
       "      <th>3</th>\n",
       "      <td>Daisies</td>\n",
       "      <td>Justin Bieber</td>\n",
       "      <td>44 ContributorsTranslationsČeskyItalianoPolski...</td>\n",
       "      <td>4</td>\n",
       "      <td>3</td>\n",
       "      <td>2</td>\n",
       "      <td>3</td>\n",
       "      <td>2025.0</td>\n",
       "      <td>341</td>\n",
       "    </tr>\n",
       "    <tr>\n",
       "      <th>4</th>\n",
       "      <td>Just In Case</td>\n",
       "      <td>Morgan Wallen</td>\n",
       "      <td>17 ContributorsTranslationsEspañolJust In Case...</td>\n",
       "      <td>5</td>\n",
       "      <td>5</td>\n",
       "      <td>2</td>\n",
       "      <td>19</td>\n",
       "      <td>2025.0</td>\n",
       "      <td>391</td>\n",
       "    </tr>\n",
       "  </tbody>\n",
       "</table>\n",
       "</div>"
      ],
      "text/plain": [
       "          title                                artist  \\\n",
       "0      Ordinary                           Alex Warren   \n",
       "1        Golden  HUNTR/X: EJAE, Audrey Nuna & REI AMI   \n",
       "2   What I Want    Morgan Wallen Featuring Tate McRae   \n",
       "3       Daisies                         Justin Bieber   \n",
       "4  Just In Case                         Morgan Wallen   \n",
       "\n",
       "                                              lyrics  rank  last_week  \\\n",
       "0  44 ContributorsTranslationsItalianoEspañolУкра...     1          1   \n",
       "1  53 ContributorsTranslationsRomanizationEnglish...     2          2   \n",
       "2  22 ContributorsTranslationsFrançaisItalianoNed...     3          4   \n",
       "3  44 ContributorsTranslationsČeskyItalianoPolski...     4          3   \n",
       "4  17 ContributorsTranslationsEspañolJust In Case...     5          5   \n",
       "\n",
       "   peak_rank  weeks_on_chart  release_year  lyric_length  \n",
       "0          1              25        2025.0           356  \n",
       "1          2               6        2025.0           345  \n",
       "2          1              11        2025.0           433  \n",
       "3          2               3        2025.0           341  \n",
       "4          2              19        2025.0           391  "
      ]
     },
     "execution_count": 2,
     "metadata": {},
     "output_type": "execute_result"
    }
   ],
   "source": [
    "data.head()"
   ]
  },
  {
   "cell_type": "markdown",
   "id": "5483b050",
   "metadata": {},
   "source": [
    "Data Cleaning"
   ]
  },
  {
   "cell_type": "code",
   "execution_count": 3,
   "id": "acec5251",
   "metadata": {},
   "outputs": [
    {
     "name": "stdout",
     "output_type": "stream",
     "text": [
      "First 200 characters of the first song: \n",
      "44 ContributorsTranslationsItalianoEspañolУкраїнськаDeutschРусский (Russian)PortuguêsČeskyOrdinary Lyrics\n",
      "They say, \"The holy water's watered down\n",
      "And this town's lost its faith\n",
      "Our colors will fade e\n",
      "\n",
      "First full song: \n",
      "They say, \"The holy water's watered down And this town's lost its faith Our colors will fade eventually\" So, if our time is runnin' out Day after day We'll make the mundane our masterpiece Oh, my, my Oh, my, my love I take one look at you You're takin' me out of the ordinary I want you layin' me down 'til we're dead and buried On the edge of your knife, stayin' drunk on your vine The angels up in the clouds are jealous knowin' we found Somethin' so out of the ordinary You got me kissin' thе ground of your sanctuary Shatter me with your touch, oh, Lord, return mе to dust The angels up in the clouds are jealous knowin' we found Hopeless hallelujah On this side of Heaven's gate Oh, my life, how do ya Breathe and take my breath away? At your altar, I will pray You're the sculptor, I'm the clay Oh, my, my You're takin' me out of the ordinary I want you layin' me down 'til we're dead and buried On the edge of your knife, stayin' drunk on your vine The angels up in the clouds are jealous knowin' we found Somethin' so out (Out) of the ordinary (Ordinary) You got me kissing the ground (Ground) of your sanctuary (Sanctuary) Shatter me with your touch, oh, Lord, return me to dust The angels up in the clouds are jealous knowin' we found Somethin' so heavenly, higher than ecstasy Whenever you're next to me, oh my, my World was in black and white until I saw your light I thought you had to die to find Somethin' so out of the ordinary I want you laying me down 'til we're dead and buried On the edge of your knife, stayin' drunk on your vine The angels up in the clouds are jealous knowin' we found Somethin' so out (Out) of the ordinary You got me kissing the ground (Ground) of your sanctuary (Sanctuary) Shatter me with your touch, oh Lord, return me to dust The angels up in the clouds are jealous knowin' we found\n"
     ]
    }
   ],
   "source": [
    "import re\n",
    "\n",
    "def clean_lyrics(lyrics):\n",
    "    \n",
    "    if pd.isna(lyrics) or lyrics == '':\n",
    "        return None\n",
    "    \n",
    "    # Convert lyrics to string type (allows for slicing but intuitively makes sense for lyrics)\n",
    "    lyrics = str(lyrics)\n",
    "    \n",
    "    # Regex expression gets everything before and including the first 'lyrics' (used to remove the first line)\n",
    "    lyrics_match = re.search(r'.*?lyrics\\s*', lyrics, re.IGNORECASE)\n",
    "    if lyrics_match:\n",
    "        lyrics = lyrics[lyrics_match.end():]\n",
    "        \n",
    "    # Same as above but include | (bitwise OR) re.DOTALL (to match across multiple lines)    \n",
    "    read_more_match = re.search(r'.*?read more\\s*', lyrics, re.IGNORECASE | re.DOTALL)\n",
    "    if read_more_match:\n",
    "        lyrics = lyrics[read_more_match.end():]\n",
    "        \n",
    "        \n",
    "    lyrics = re.sub(r'[\"\"]', '\"', lyrics)  # Normalize quotes\n",
    "    lyrics = re.sub(r'\\s+', ' ', lyrics)   # Multiple spaces → single space\n",
    "\n",
    "    lyrics = lyrics.strip()\n",
    "    \n",
    "    return lyrics\n",
    "\n",
    "print(f\"First 200 characters of the first song: \\n{data['lyrics'][0][0:200]}\\n\")\n",
    "\n",
    "data['lyrics'] = data['lyrics'].apply(clean_lyrics)\n",
    "\n",
    "print(f\"First full song: \\n{data['lyrics'][0]}\")"
   ]
  },
  {
   "cell_type": "code",
   "execution_count": 4,
   "id": "18b8ce59",
   "metadata": {},
   "outputs": [
    {
     "name": "stdout",
     "output_type": "stream",
     "text": [
      "Songs that will be removed (no lyrics after cleaning):\n",
      " - 'Takedown' by JEONGYEON, JIHYO & CHAEYOUNG Of TWICE (Rank #67)\n",
      "\n",
      "Songs before removing null lyrics: 100\n",
      "Songs after removing null lyrics: 99\n"
     ]
    }
   ],
   "source": [
    "# Identify songs that will be removed\n",
    "songs_to_remove = data[data['lyrics'].isna()]\n",
    "print(f\"Songs that will be removed (no lyrics after cleaning):\")\n",
    "if len(songs_to_remove) > 0:\n",
    "    for index, song in songs_to_remove.iterrows():\n",
    "        print(f\" - '{song['title']}' by {song['artist']} (Rank #{song['rank']})\")\n",
    "\n",
    "# Remove songs without lyrics\n",
    "print(f\"\\nSongs before removing null lyrics: {len(data)}\")\n",
    "data = data.dropna(subset=['lyrics'])\n",
    "print(f\"Songs after removing null lyrics: {len(data)}\")"
   ]
  },
  {
   "cell_type": "code",
   "execution_count": 5,
   "id": "a589ed56",
   "metadata": {},
   "outputs": [
    {
     "data": {
      "text/plain": [
       "title             string[python]\n",
       "artist            string[python]\n",
       "lyrics            string[python]\n",
       "rank                       int64\n",
       "last_week                  int64\n",
       "peak_rank                  int64\n",
       "weeks_on_chart             int64\n",
       "release_year               int64\n",
       "lyric_length               int64\n",
       "word_count                 int64\n",
       "dtype: object"
      ]
     },
     "execution_count": 5,
     "metadata": {},
     "output_type": "execute_result"
    }
   ],
   "source": [
    "# Convert title, artist, and lyrics to string (though lyrics should already be string after our cleaning)\n",
    "data['title'] = data['title'].astype('string')\n",
    "data['artist'] = data['artist'].astype('string')\n",
    "data['lyrics'] = data['lyrics'].astype('string')\n",
    "\n",
    "data['release_year'] = data['release_year'].astype('int64')\n",
    "\n",
    "# Add a new column for word count\n",
    "data['word_count'] = data['lyrics'].apply(lambda x: len(x.split()))\n",
    "\n",
    "data.dtypes"
   ]
  },
  {
   "cell_type": "code",
   "execution_count": 6,
   "id": "d6fb222c",
   "metadata": {},
   "outputs": [
    {
     "data": {
      "text/plain": [
       "title             0\n",
       "artist            0\n",
       "lyrics            0\n",
       "rank              0\n",
       "last_week         0\n",
       "peak_rank         0\n",
       "weeks_on_chart    0\n",
       "release_year      0\n",
       "lyric_length      0\n",
       "word_count        0\n",
       "dtype: int64"
      ]
     },
     "execution_count": 6,
     "metadata": {},
     "output_type": "execute_result"
    }
   ],
   "source": [
    "data.isna().sum()"
   ]
  },
  {
   "cell_type": "code",
   "execution_count": 7,
   "id": "afda66bb",
   "metadata": {},
   "outputs": [],
   "source": [
    "data.to_csv('../billboard_hot_100_cleaned.csv', index=False)"
   ]
  },
  {
   "cell_type": "markdown",
   "id": "91caacc6",
   "metadata": {},
   "source": [
    "Sentiment"
   ]
  },
  {
   "cell_type": "code",
   "execution_count": 11,
   "id": "b157f2bb",
   "metadata": {},
   "outputs": [],
   "source": [
    "from vaderSentiment.vaderSentiment import SentimentIntensityAnalyzer\n",
    "\n",
    "analyzer = SentimentIntensityAnalyzer()"
   ]
  },
  {
   "cell_type": "code",
   "execution_count": null,
   "id": "d765edf9",
   "metadata": {},
   "outputs": [],
   "source": []
  }
 ],
 "metadata": {
  "kernelspec": {
   "display_name": ".venv312",
   "language": "python",
   "name": "python3"
  },
  "language_info": {
   "codemirror_mode": {
    "name": "ipython",
    "version": 3
   },
   "file_extension": ".py",
   "mimetype": "text/x-python",
   "name": "python",
   "nbconvert_exporter": "python",
   "pygments_lexer": "ipython3",
   "version": "3.12.3"
  }
 },
 "nbformat": 4,
 "nbformat_minor": 5
}
