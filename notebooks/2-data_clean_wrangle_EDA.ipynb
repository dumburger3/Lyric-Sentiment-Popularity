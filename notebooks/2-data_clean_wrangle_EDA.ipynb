{
 "cells": [
  {
   "cell_type": "markdown",
   "id": "8cff1562",
   "metadata": {},
   "source": [
    "A Look Into The Top 100 Songs on Billboard (Week of Augest 4th, 2025)"
   ]
  },
  {
   "cell_type": "code",
   "execution_count": 5,
   "id": "427fa107",
   "metadata": {},
   "outputs": [
    {
     "data": {
      "text/plain": [
       "title              object\n",
       "artist             object\n",
       "lyrics             object\n",
       "rank                int64\n",
       "last_week           int64\n",
       "peak_rank           int64\n",
       "weeks_on_chart      int64\n",
       "release_year      float64\n",
       "lyric_length        int64\n",
       "dtype: object"
      ]
     },
     "execution_count": 5,
     "metadata": {},
     "output_type": "execute_result"
    }
   ],
   "source": [
    "import pandas as pd \n",
    "\n",
    "data = pd.read_csv('../billboard_hot_100_with_lyrics.csv')\n",
    "data.dtypes"
   ]
  },
  {
   "cell_type": "code",
   "execution_count": 7,
   "id": "ac8384b2",
   "metadata": {},
   "outputs": [
    {
     "data": {
      "text/html": [
       "<div>\n",
       "<style scoped>\n",
       "    .dataframe tbody tr th:only-of-type {\n",
       "        vertical-align: middle;\n",
       "    }\n",
       "\n",
       "    .dataframe tbody tr th {\n",
       "        vertical-align: top;\n",
       "    }\n",
       "\n",
       "    .dataframe thead th {\n",
       "        text-align: right;\n",
       "    }\n",
       "</style>\n",
       "<table border=\"1\" class=\"dataframe\">\n",
       "  <thead>\n",
       "    <tr style=\"text-align: right;\">\n",
       "      <th></th>\n",
       "      <th>title</th>\n",
       "      <th>artist</th>\n",
       "      <th>lyrics</th>\n",
       "      <th>rank</th>\n",
       "      <th>last_week</th>\n",
       "      <th>peak_rank</th>\n",
       "      <th>weeks_on_chart</th>\n",
       "      <th>release_year</th>\n",
       "      <th>lyric_length</th>\n",
       "    </tr>\n",
       "  </thead>\n",
       "  <tbody>\n",
       "    <tr>\n",
       "      <th>0</th>\n",
       "      <td>Ordinary</td>\n",
       "      <td>Alex Warren</td>\n",
       "      <td>44 ContributorsTranslationsItalianoEspañolУкра...</td>\n",
       "      <td>1</td>\n",
       "      <td>1</td>\n",
       "      <td>1</td>\n",
       "      <td>25</td>\n",
       "      <td>2025.0</td>\n",
       "      <td>356</td>\n",
       "    </tr>\n",
       "    <tr>\n",
       "      <th>1</th>\n",
       "      <td>Golden</td>\n",
       "      <td>HUNTR/X: EJAE, Audrey Nuna &amp; REI AMI</td>\n",
       "      <td>53 ContributorsTranslationsRomanizationEnglish...</td>\n",
       "      <td>2</td>\n",
       "      <td>2</td>\n",
       "      <td>2</td>\n",
       "      <td>6</td>\n",
       "      <td>2025.0</td>\n",
       "      <td>345</td>\n",
       "    </tr>\n",
       "    <tr>\n",
       "      <th>2</th>\n",
       "      <td>What I Want</td>\n",
       "      <td>Morgan Wallen Featuring Tate McRae</td>\n",
       "      <td>22 ContributorsTranslationsFrançaisItalianoNed...</td>\n",
       "      <td>3</td>\n",
       "      <td>4</td>\n",
       "      <td>1</td>\n",
       "      <td>11</td>\n",
       "      <td>2025.0</td>\n",
       "      <td>433</td>\n",
       "    </tr>\n",
       "    <tr>\n",
       "      <th>3</th>\n",
       "      <td>Daisies</td>\n",
       "      <td>Justin Bieber</td>\n",
       "      <td>44 ContributorsTranslationsČeskyItalianoPolski...</td>\n",
       "      <td>4</td>\n",
       "      <td>3</td>\n",
       "      <td>2</td>\n",
       "      <td>3</td>\n",
       "      <td>2025.0</td>\n",
       "      <td>341</td>\n",
       "    </tr>\n",
       "    <tr>\n",
       "      <th>4</th>\n",
       "      <td>Just In Case</td>\n",
       "      <td>Morgan Wallen</td>\n",
       "      <td>17 ContributorsTranslationsEspañolJust In Case...</td>\n",
       "      <td>5</td>\n",
       "      <td>5</td>\n",
       "      <td>2</td>\n",
       "      <td>19</td>\n",
       "      <td>2025.0</td>\n",
       "      <td>391</td>\n",
       "    </tr>\n",
       "  </tbody>\n",
       "</table>\n",
       "</div>"
      ],
      "text/plain": [
       "          title                                artist  \\\n",
       "0      Ordinary                           Alex Warren   \n",
       "1        Golden  HUNTR/X: EJAE, Audrey Nuna & REI AMI   \n",
       "2   What I Want    Morgan Wallen Featuring Tate McRae   \n",
       "3       Daisies                         Justin Bieber   \n",
       "4  Just In Case                         Morgan Wallen   \n",
       "\n",
       "                                              lyrics  rank  last_week  \\\n",
       "0  44 ContributorsTranslationsItalianoEspañolУкра...     1          1   \n",
       "1  53 ContributorsTranslationsRomanizationEnglish...     2          2   \n",
       "2  22 ContributorsTranslationsFrançaisItalianoNed...     3          4   \n",
       "3  44 ContributorsTranslationsČeskyItalianoPolski...     4          3   \n",
       "4  17 ContributorsTranslationsEspañolJust In Case...     5          5   \n",
       "\n",
       "   peak_rank  weeks_on_chart  release_year  lyric_length  \n",
       "0          1              25        2025.0           356  \n",
       "1          2               6        2025.0           345  \n",
       "2          1              11        2025.0           433  \n",
       "3          2               3        2025.0           341  \n",
       "4          2              19        2025.0           391  "
      ]
     },
     "execution_count": 7,
     "metadata": {},
     "output_type": "execute_result"
    }
   ],
   "source": [
    "data.head()"
   ]
  },
  {
   "cell_type": "code",
   "execution_count": null,
   "id": "acec5251",
   "metadata": {},
   "outputs": [],
   "source": []
  }
 ],
 "metadata": {
  "kernelspec": {
   "display_name": ".venv312",
   "language": "python",
   "name": "python3"
  },
  "language_info": {
   "codemirror_mode": {
    "name": "ipython",
    "version": 3
   },
   "file_extension": ".py",
   "mimetype": "text/x-python",
   "name": "python",
   "nbconvert_exporter": "python",
   "pygments_lexer": "ipython3",
   "version": "3.12.3"
  }
 },
 "nbformat": 4,
 "nbformat_minor": 5
}
